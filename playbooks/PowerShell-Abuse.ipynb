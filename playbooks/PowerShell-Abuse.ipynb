{
 "cells": [
  {
   "cell_type": "markdown",
   "metadata": {},
   "source": [
    "## PowerShell Abuse"
   ]
  },
  {
   "cell_type": "markdown",
   "metadata": {},
   "source": [
    "### Play"
   ]
  },
  {
   "cell_type": "markdown",
   "metadata": {},
   "source": [
    "**Task.** Query for PowerShell abuse using PowerShell.\n",
    "\n",
    "**Purpose.** PowerShell is a command-line and scripting interface within the Windows operating system. Adversaries abuse PowerShell to download and execute malicious code. \n",
    "\n",
    "**Conditions.** PowerShell Remoting and Script Block Logging is enabled.\n",
    "\n",
    "**Standard.** You were able to perform a query and determine if suspicious or malicious activity has occurred. \n",
    "\n",
    "**MITRE ATT&CK**\n",
    "* **Tactic:** Execution\n",
    "* **Technique:** T1059 - Command and Scripting Interpreter\n",
    "* **Sub-Technique:** T1059.001 - PowerShell"
   ]
  },
  {
   "cell_type": "markdown",
   "metadata": {},
   "source": [
    "### Setup"
   ]
  },
  {
   "cell_type": "code",
   "execution_count": null,
   "metadata": {
    "dotnet_interactive": {
     "language": "pwsh"
    }
   },
   "outputs": [],
   "source": [
    "$Computers = @(\"localhost\")\n",
    "\n",
    "filter Read-WinEvent {\n",
    "    $WinEvent = [ordered]@{} \n",
    "    $XmlData = [xml]$_.ToXml()\n",
    "    $SystemData = $XmlData.Event.System\n",
    "    $SystemData | \n",
    "    Get-Member -MemberType Properties | \n",
    "    Select-Object -ExpandProperty Name |\n",
    "    ForEach-Object {\n",
    "        $Field = $_\n",
    "        if ($SystemData[$Field].'#text') {\n",
    "            $WinEvent.$Field = $SystemData[$Field].'#text'\n",
    "        } else {\n",
    "            $SystemData[$Field]  | \n",
    "            Get-Member -MemberType Properties | \n",
    "            Select-Object -ExpandProperty Name |\n",
    "            ForEach-Object { \n",
    "                $WinEvent.$Field = @{}\n",
    "                $WinEvent.$Field.$_ = $SystemData[$Field].$_\n",
    "            }\n",
    "        }\n",
    "    }\n",
    "    $XmlData.Event.EventData.Data |\n",
    "    ForEach-Object { \n",
    "        $WinEvent.$($_.Name) = $_.'#text'\n",
    "    }\n",
    "    return New-Object -TypeName PSObject -Property $WinEvent\n",
    "}"
   ]
  },
  {
   "cell_type": "markdown",
   "metadata": {},
   "source": [
    "### Query & Analysis"
   ]
  },
  {
   "cell_type": "code",
   "execution_count": null,
   "metadata": {
    "dotnet_interactive": {
     "language": "pwsh"
    }
   },
   "outputs": [],
   "source": [
    "Invoke-Command -ComputerName $Computers -ScriptBlock ${function:Read-WinEvent}"
   ]
  }
 ],
 "metadata": {
  "kernelspec": {
   "display_name": ".NET (PowerShell)",
   "language": "PowerShell",
   "name": ".net-pwsh"
  },
  "language_info": {
   "name": "PowerShell"
  }
 },
 "nbformat": 4,
 "nbformat_minor": 2
}
