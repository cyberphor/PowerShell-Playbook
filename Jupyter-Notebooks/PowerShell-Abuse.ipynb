{
 "cells": [
  {
   "cell_type": "markdown",
   "metadata": {},
   "source": [
    "**Task.** Query for PowerShell abuse using PowerShell.  \n",
    "\n",
    "**Purpose.** PowerShell is a command-line and scripting interface within the Windows operating system. Adversaries abuse PowerShell to download and execute malicious code.  \n",
    "\n",
    "**Conditions.** PowerShell Remoting and Script Block Logging is enabled.  \n",
    "\n",
    "**Standard.** You were able to perform a query and determine if suspicious or malicious activity occurred."
   ]
  },
  {
   "cell_type": "code",
   "execution_count": null,
   "metadata": {
    "dotnet_interactive": {
     "language": "pwsh"
    },
    "vscode": {
     "languageId": "dotnet-interactive.pwsh"
    }
   },
   "outputs": [
    {
     "name": "stdout",
     "output_type": "stream",
     "text": [
      "\r\n",
      "   TypeName: Selected.System.Management.Automation.PSCustomObject\r\n",
      "\r\n",
      "\u001b[32;1mName            MemberType   Definition\u001b[0m\r\n",
      "\u001b[32;1m----            ----------   ----------\u001b[0m\r\n",
      "Equals          Method       bool Equals(System.Object obj)\r\n",
      "GetHashCode     Method       int GetHashCode()\r\n",
      "GetType         Method       type GetType()\r\n",
      "ToString        Method       string ToString()\r\n",
      "Channel         NoteProperty string Channel=Microsoft-Windows-PowerShell/Operational\r\n",
      "Computer        NoteProperty string Computer=LAPTOP-H4TI33TA\r\n",
      "Correlation     NoteProperty hashtable Correlation=System.Collections.Hashtable\r\n",
      "EventID         NoteProperty string EventID=4104\r\n",
      "EventRecordID   NoteProperty string EventRecordID=210511\r\n",
      "Execution       NoteProperty hashtable Execution=System.Collections.Hashtable\r\n",
      "Keywords        NoteProperty string Keywords=0x0\r\n",
      "Level           NoteProperty string Level=5\r\n",
      "MessageNumber   NoteProperty string MessageNumber=1\r\n",
      "MessageTotal    NoteProperty string MessageTotal=1\r\n",
      "Opcode          NoteProperty string Opcode=15\r\n",
      "Path            NoteProperty object Path=null\r\n",
      "Provider        NoteProperty hashtable Provider=System.Collections.Hashtable\r\n",
      "ScriptBlockId   NoteProperty string ScriptBlockId=4e99b87a-72b9-44ef-99bb-95174d96d7ca\r\n",
      "ScriptBlockText NoteProperty string ScriptBlockText=$global:?\r\n",
      "Security        NoteProperty hashtable Security=System.Collections.Hashtable\r\n",
      "Task            NoteProperty string Task=2\r\n",
      "TimeCreated     NoteProperty string TimeCreated=2022-09-30 03:20:02\r\n",
      "Version         NoteProperty string Version=1\r\n",
      "\r\n"
     ]
    }
   ],
   "source": [
    "$ComputerName = \"localhost\"\n",
    "$FilterHashTable = @{\n",
    "    LogName = \"Microsoft-Windows-PowerShell/Operational\"\n",
    "    Id = 4104\n",
    "}\n",
    "\n",
    "filter Read-WinEvent {\n",
    "    $WinEvent = [ordered]@{} \n",
    "    $XmlData = [xml]$_.ToXml()\n",
    "    $SystemData = $XmlData.Event.System\n",
    "    $SystemData | \n",
    "    Get-Member -MemberType Properties | \n",
    "    Select-Object -ExpandProperty Name |\n",
    "    ForEach-Object {\n",
    "        $Field = $_\n",
    "        if ($Field -eq 'TimeCreated') {\n",
    "            $WinEvent.$Field = Get-Date -Format 'yyyy-MM-dd hh:mm:ss' $SystemData[$Field].SystemTime\n",
    "        } elseif ($SystemData[$Field].'#text') {\n",
    "            $WinEvent.$Field = $SystemData[$Field].'#text'\n",
    "        } else {\n",
    "            $SystemData[$Field]  | \n",
    "            Get-Member -MemberType Properties | \n",
    "            Select-Object -ExpandProperty Name |\n",
    "            ForEach-Object { \n",
    "                $WinEvent.$Field = @{}\n",
    "                $WinEvent.$Field.$_ = $SystemData[$Field].$_\n",
    "            }\n",
    "        }\n",
    "    }\n",
    "    $XmlData.Event.EventData.Data |\n",
    "    ForEach-Object { \n",
    "        $WinEvent.$($_.Name) = $_.'#text'\n",
    "    }\n",
    "    return New-Object -TypeName PSObject -Property $WinEvent\n",
    "}\n",
    "\n",
    "Get-WinEvent -ComputerName $ComputerName -FilterHashTable $FilterHashTable |\n",
    "Read-WinEvent | \n",
    "Select-Object -First 1"
   ]
  }
 ],
 "metadata": {
  "kernelspec": {
   "display_name": ".NET (PowerShell)",
   "language": "PowerShell",
   "name": ".net-pwsh"
  },
  "language_info": {
   "name": "PowerShell"
  }
 },
 "nbformat": 4,
 "nbformat_minor": 2
}
