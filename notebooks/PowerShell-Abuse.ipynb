{
 "cells": [
  {
   "cell_type": "markdown",
   "metadata": {},
   "source": [
    "# PowerShell Abuse"
   ]
  },
  {
   "cell_type": "markdown",
   "metadata": {},
   "source": [
    "## Overview"
   ]
  },
  {
   "cell_type": "markdown",
   "metadata": {},
   "source": [
    "**Task.** Query for PowerShell abuse using PowerShell.  \n",
    "**Purpose.** PowerShell is a command-line and scripting interface within the Windows operating system. Adversaries abuse PowerShell to download and execute malicious code.  \n",
    "**Conditions.** PowerShell Remoting and Script Block Logging is enabled.  \n",
    "**Standard.** You were able to perform a query and determine if suspicious or malicious activity has occurred."
   ]
  },
  {
   "cell_type": "markdown",
   "metadata": {},
   "source": [
    "## Setup"
   ]
  },
  {
   "cell_type": "code",
   "execution_count": null,
   "metadata": {
    "dotnet_interactive": {
     "language": "pwsh"
    }
   },
   "outputs": [],
   "source": [
    "$ComputerName = \"localhost\"\n",
    "$FilterHashTable = @{\n",
    "    LogName = \"Microsoft-Windows-PowerShell/Operational\"\n",
    "    Id = 4104\n",
    "}\n",
    "\n",
    "filter Read-WinEvent {\n",
    "    $WinEvent = [ordered]@{} \n",
    "    $XmlData = [xml]$_.ToXml()\n",
    "    $SystemData = $XmlData.Event.System\n",
    "    $SystemData | \n",
    "    Get-Member -MemberType Properties | \n",
    "    Select-Object -ExpandProperty Name |\n",
    "    ForEach-Object {\n",
    "        $Field = $_\n",
    "        if ($SystemData[$Field].'#text') {\n",
    "            $WinEvent.$Field = $SystemData[$Field].'#text'\n",
    "        } else {\n",
    "            $SystemData[$Field]  | \n",
    "            Get-Member -MemberType Properties | \n",
    "            Select-Object -ExpandProperty Name |\n",
    "            ForEach-Object { \n",
    "                $WinEvent.$Field = @{}\n",
    "                $WinEvent.$Field.$_ = $SystemData[$Field].$_\n",
    "            }\n",
    "        }\n",
    "    }\n",
    "    $XmlData.Event.EventData.Data |\n",
    "    ForEach-Object { \n",
    "        $WinEvent.$($_.Name) = $_.'#text'\n",
    "    }\n",
    "    return New-Object -TypeName PSObject -Property $WinEvent\n",
    "}"
   ]
  },
  {
   "cell_type": "markdown",
   "metadata": {},
   "source": [
    "## Query & Analysis"
   ]
  },
  {
   "cell_type": "code",
   "execution_count": null,
   "metadata": {
    "dotnet_interactive": {
     "language": "pwsh"
    }
   },
   "outputs": [],
   "source": [
    "Get-WinEvent -ComputerName $ComputerName -FilterHashTable $FilterHashTable -MaxEvents 10 |\n",
    "Read-WinEvent |\n",
    "Select-Object -Property `\n",
    "@{ Name = \"TimeCreated\"; Expression = { $_.TimeCreated.SystemTime }},\n",
    "@{ Name = \"SecurityId\"; Expression = { $_.Security.UserId }},\n",
    "ScriptBlockText "
   ]
  }
 ],
 "metadata": {
  "kernelspec": {
   "display_name": ".NET (PowerShell)",
   "language": "PowerShell",
   "name": ".net-pwsh"
  },
  "language_info": {
   "name": "PowerShell"
  }
 },
 "nbformat": 4,
 "nbformat_minor": 2
}
